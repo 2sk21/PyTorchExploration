{
 "cells": [
  {
   "cell_type": "code",
   "execution_count": 1,
   "metadata": {},
   "outputs": [
    {
     "data": {
      "image/png": "[encoded data removed]",
      "text/plain": [
       "<Figure size 432x288 with 1 Axes>"
      ]
     },
     "metadata": {},
     "output_type": "display_data"
    }
   ],
   "source": [
    "import random\n",
    "import matplotlib.pyplot as plt\n",
    "%matplotlib inline\n",
    "\n",
    "def generate_class_data(numPoints, center_x, center_y, radius):\n",
    "    training_data = [[center_x+random.uniform(-radius,radius), center_y+random.uniform(-radius,radius)] for x in range(numPoints)]\n",
    "    return training_data\n",
    "\n",
    "def plot_data(data_class_a, data_class_b):\n",
    "    class_a_x = [ x for [x, y] in data_class_a]\n",
    "    class_a_y = [ y for [x, y] in data_class_a]\n",
    "    class_b_x = [ x for [x, y] in data_class_b]\n",
    "    class_b_y = [ y for [x, y] in data_class_b]\n",
    "    plt.plot(class_a_x, class_a_y, 'ro')\n",
    "    plt.plot(class_b_x, class_b_y, 'bo')\n",
    "    plt.show()\n",
    "    \n",
    "numPoints = 10\n",
    "train_data_class_a = generate_class_data(numPoints, 5.0, 3.0, 2.0)\n",
    "train_data_class_b = generate_class_data(numPoints, 2.0, 2.5, 2.0)\n",
    "plot_data(train_data_class_a, train_data_class_b)"
   ]
  },
  {
   "cell_type": "code",
   "execution_count": 2,
   "metadata": {},
   "outputs": [
    {
     "name": "stdout",
     "output_type": "stream",
     "text": [
      "epoch0, loss 0.5931983590126038\n",
      "epoch100, loss 0.4988402724266052\n",
      "epoch200, loss 0.44259992241859436\n",
      "epoch300, loss 0.40081772208213806\n",
      "epoch400, loss 0.36792922019958496\n",
      "epoch500, loss 0.341293603181839\n",
      "epoch600, loss 0.3192557692527771\n",
      "epoch700, loss 0.3006916344165802\n",
      "epoch800, loss 0.28481125831604004\n",
      "epoch900, loss 0.27104607224464417\n"
     ]
    }
   ],
   "source": [
    "import torch\n",
    "import torch.nn as nn\n",
    "import torch.nn.functional as func\n",
    "\n",
    "class LogisticModel(nn.Module):\n",
    "    def __init__(self, in_dim, out_dim):\n",
    "        super(LogisticModel,self).__init__()\n",
    "        self.linear = nn.Linear(in_dim, out_dim)\n",
    "    def forward(self, x):\n",
    "        out = torch.sigmoid(self.linear(x))\n",
    "        return out\n",
    "\n",
    "model = LogisticModel(2, 1)\n",
    "\n",
    "criterion = torch.nn.BCELoss(reduction='mean')\n",
    "optimiser = torch.optim.SGD(model.parameters(), lr = 0.05)\n",
    "\n",
    "train_data = train_data_class_a + train_data_class_b\n",
    "\n",
    "class_labels = [[[0]] * numPoints][0] + [[[1]] * numPoints][0]\n",
    "\n",
    "#print(train_data)\n",
    "#print(class_labels)\n",
    "\n",
    "x_train = torch.tensor(train_data, dtype=torch.float).reshape(-1,2)\n",
    "y_train = torch.tensor(class_labels, dtype=torch.float).reshape(-1,1)\n",
    "\n",
    "epochs = 1000\n",
    "for epoch in range(epochs):\n",
    "    inputs = x_train\n",
    "    labels = y_train\n",
    "    out = model(inputs)\n",
    "    optimiser.zero_grad()\n",
    "    loss = criterion(out, labels)\n",
    "    loss.backward()\n",
    "    optimiser.step()\n",
    "    #predicted = model.forward(x_train)\n",
    "    if epoch % 100 == 0:\n",
    "        print('epoch{}, loss {}'.format(epoch, loss.item()))"
   ]
  },
  {
   "cell_type": "code",
   "execution_count": 3,
   "metadata": {},
   "outputs": [
    {
     "data": {
      "image/png": "[encoded data removed]",
      "text/plain": [
       "<Figure size 432x288 with 1 Axes>"
      ]
     },
     "metadata": {},
     "output_type": "display_data"
    }
   ],
   "source": [
    "# Generate evaluation data as a grid of points and run it through the model\n",
    "test_data = []\n",
    "for xval in range(0, 12):\n",
    "    for yval in range(0, 12):\n",
    "        test_data.append([ float(xval * 0.5), float(yval * 0.5)])\n",
    "results = model(torch.tensor(test_data, dtype=torch.float))\n",
    "test_class_a = []\n",
    "test_class_b = []\n",
    "for point,result in zip(test_data, results.tolist()):\n",
    "    if result[0] <= 0.5:\n",
    "        test_class_a.append(point)\n",
    "    else:\n",
    "        test_class_b.append(point)\n",
    "plot_data(test_class_a, test_class_b)"
   ]
  },
  {
   "cell_type": "code",
   "execution_count": null,
   "metadata": {},
   "outputs": [],
   "source": []
  }
 ],
 "metadata": {
  "kernelspec": {
   "display_name": "Environment (conda_pytorch_p36)",
   "language": "python",
   "name": "conda_pytorch_p36"
  },
  "language_info": {
   "codemirror_mode": {
    "name": "ipython",
    "version": 3
   },
   "file_extension": ".py",
   "mimetype": "text/x-python",
   "name": "python",
   "nbconvert_exporter": "python",
   "pygments_lexer": "ipython3",
   "version": "3.6.5"
  }
 },
 "nbformat": 4,
 "nbformat_minor": 2
}
